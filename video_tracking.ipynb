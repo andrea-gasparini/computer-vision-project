{
 "cells": [
  {
   "cell_type": "code",
   "execution_count": 1,
   "metadata": {},
   "outputs": [],
   "source": [
    "from src.application.utils import generate_bounding_boxes, split_video_to_frames, merge_frames_to_video, calculate_histogram_bounding_box, calculate_histogram_distance\n",
    "\n",
    "import os"
   ]
  },
  {
   "cell_type": "code",
   "execution_count": 2,
   "metadata": {},
   "outputs": [],
   "source": [
    "data_path = os.path.join('src', 'application', 'data')\n",
    "video_path = os.path.join(data_path, 'video_hamilton.mp4')\n",
    "output_frames_path = os.path.join(data_path, 'out_frames')\n",
    "bboxed_frames_path = os.path.join(output_frames_path, 'bounding_box')\n",
    "model_ckpt_path = os.path.join(data_path, 'model.ckpt')"
   ]
  },
  {
   "cell_type": "code",
   "execution_count": null,
   "metadata": {},
   "outputs": [],
   "source": [
    "split_video_to_frames(video_path, output_frames_path, 4)"
   ]
  },
  {
   "cell_type": "code",
   "execution_count": null,
   "metadata": {},
   "outputs": [],
   "source": [
    "outputs = generate_bounding_boxes(model_ckpt_path, output_frames_path)"
   ]
  },
  {
   "cell_type": "code",
   "execution_count": null,
   "metadata": {},
   "outputs": [],
   "source": [
    "merge_frames_to_video(bboxed_frames_path, data_path, fps=30)"
   ]
  },
  {
   "cell_type": "code",
   "execution_count": 3,
   "metadata": {},
   "outputs": [
    {
     "name": "stdout",
     "output_type": "stream",
     "text": [
      "15.225103738950565\n"
     ]
    }
   ],
   "source": [
    "images = os.listdir(bboxed_frames_path)\n",
    "for i, image_name in enumerate(images):\n",
    "    if i == len(os.listdir(bboxed_frames_path)) -1:\n",
    "        break\n",
    "    \n",
    "    histogram_frame_curr = calculate_histogram_bounding_box(os.path.join(bboxed_frames_path, image_name), os.path.join(output_frames_path, 'txt_bounding_box', image_name.replace('.jpg', '.txt')))\n",
    "    \n",
    "    histogram_frame_next = calculate_histogram_bounding_box(os.path.join(bboxed_frames_path, images[i+1]), os.path.join(output_frames_path, 'txt_bounding_box', images[i+1].replace('.jpg', '.txt')))\n",
    "    \n",
    "    print(calculate_histogram_distance(histogram_frame_curr[1], histogram_frame_next[1]))\n",
    "    \n",
    "    break\n"
   ]
  }
 ],
 "metadata": {
  "interpreter": {
   "hash": "07efdcd4b820c98a756949507a4d29d7862823915ec7477944641bea022f4f62"
  },
  "kernelspec": {
   "display_name": "Python 3.9.7 64-bit ('base': conda)",
   "language": "python",
   "name": "python3"
  },
  "language_info": {
   "codemirror_mode": {
    "name": "ipython",
    "version": 3
   },
   "file_extension": ".py",
   "mimetype": "text/x-python",
   "name": "python",
   "nbconvert_exporter": "python",
   "pygments_lexer": "ipython3",
   "version": "3.9.7"
  },
  "orig_nbformat": 4
 },
 "nbformat": 4,
 "nbformat_minor": 2
}
