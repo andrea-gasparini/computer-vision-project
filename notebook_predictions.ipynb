{
 "cells": [
  {
   "cell_type": "code",
   "execution_count": 1,
   "metadata": {},
   "outputs": [],
   "source": [
    "from src.application.utils import generate_bounding_boxes, split_video_to_frames, merge_frames_to_video\n",
    "\n",
    "import os"
   ]
  },
  {
   "cell_type": "code",
   "execution_count": 2,
   "metadata": {},
   "outputs": [
    {
     "name": "stdout",
     "output_type": "stream",
     "text": [
      "Done 2162 frames.\n"
     ]
    }
   ],
   "source": [
    "app_path = os.path.join('src', 'application')\n",
    "video_path = os.path.join(app_path, 'test_video_tracking_f1.mp4')\n",
    "output_frames_path = os.path.join(app_path, 'out_frames')\n",
    "model_path = os.path.join(app_path, 'model.ckpt')\n",
    "\n",
    "\n",
    "#split_video_to_frames(video_path, output_frames_path, 4)\n",
    "#merge_frames_to_video(output_frames_path, app_path, fps=2)\n",
    "generate_bounding_boxes(model_path, output_frames_path)"
   ]
  }
 ],
 "metadata": {
  "interpreter": {
   "hash": "07efdcd4b820c98a756949507a4d29d7862823915ec7477944641bea022f4f62"
  },
  "kernelspec": {
   "display_name": "Python 3.9.7 64-bit ('base': conda)",
   "language": "python",
   "name": "python3"
  },
  "language_info": {
   "codemirror_mode": {
    "name": "ipython",
    "version": 3
   },
   "file_extension": ".py",
   "mimetype": "text/x-python",
   "name": "python",
   "nbconvert_exporter": "python",
   "pygments_lexer": "ipython3",
   "version": "3.9.7"
  },
  "orig_nbformat": 4
 },
 "nbformat": 4,
 "nbformat_minor": 2
}
